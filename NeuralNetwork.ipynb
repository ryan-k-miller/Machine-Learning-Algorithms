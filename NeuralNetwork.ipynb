{
 "cells": [
  {
   "cell_type": "markdown",
   "metadata": {},
   "source": [
    "# Feed Forward Neural Network for Classification using Numpy\n",
    "Python module contained [here](https://github.com/ryan-kp-miller/Machine-Learning-Algorithms/tree/master/NeuralNetwork)."
   ]
  },
  {
   "cell_type": "markdown",
   "metadata": {},
   "source": [
    "## Importing NN Module and Dependencies"
   ]
  },
  {
   "cell_type": "code",
   "execution_count": 2,
   "metadata": {},
   "outputs": [],
   "source": [
    "import pandas as pd\n",
    "import numpy as np\n",
    "import time\n",
    "from NeuralNetwork.NeuralNetwork import NeuralNetwork"
   ]
  },
  {
   "cell_type": "code",
   "execution_count": 3,
   "metadata": {},
   "outputs": [
    {
     "name": "stdout",
     "output_type": "stream",
     "text": [
      "\n",
      "        this class is for training, predicting, and evaluating an L-depth\n",
      "        Neural Network for binary classification using linear ReLU hidden nodes\n",
      "        and a linear Sigmoid output node\n",
      "\n",
      "        inputs:\n",
      "            layer_dims: list containing the number of neurons for each hidden layer\n",
      "            alpha: float representing the learning rate of the model\n",
      "            epochs: int representing the number of training epochs\n",
      "            init_strategy: string representing the parameter initialization strategy\n",
      "                           takes the value of \"xavier\" or \"he\"\n",
      "            decay_rate: float representing the decay rate for learning rate decay\n",
      "            mini_batch_size: int representing the size of each mini-batch\n",
      "                             if mini_batch_size == num_examples, then performing batch gradient descent\n",
      "            epsilon: float representing the adjustment value to avoid numerical instability (divide by 0)\n",
      "            random_state: int for setting the np.random.seed to ensure reproducibility\n",
      "            print_errors: boolean flag representing whether or not to print the cost during training\n",
      "            print_iter: the number of iterations between printing the current training cost\n",
      "\n",
      "        output: None\n",
      "    \n"
     ]
    }
   ],
   "source": [
    "print(NeuralNetwork().__doc__)"
   ]
  },
  {
   "cell_type": "markdown",
   "metadata": {},
   "source": [
    "## Testing Performance on MNIST Dataset"
   ]
  },
  {
   "cell_type": "code",
   "execution_count": 4,
   "metadata": {},
   "outputs": [],
   "source": [
    "#testing NeuralNetwork class using MNIST dataset\n",
    "train = pd.read_csv(\"../Data/mnist_train.csv\",header=0)\n",
    "test = pd.read_csv(\"../Data/mnist_test.csv\",header=0)\n",
    "#shaping and preprocessing the data\n",
    "X_train = train.iloc[:,1:].values\n",
    "X_train = X_train.astype(np.float16)\n",
    "X_train = X_train.T / 255\n",
    "Y_train = pd.get_dummies(train.iloc[:,0]).values.T\n",
    "X_test = test.iloc[:,1:].values\n",
    "X_test = X_test.astype(np.float16)\n",
    "X_test = X_test.T / 255\n",
    "Y_test = pd.get_dummies(test.iloc[:,0]).values.T"
   ]
  },
  {
   "cell_type": "code",
   "execution_count": 5,
   "metadata": {
    "scrolled": true
   },
   "outputs": [
    {
     "name": "stdout",
     "output_type": "stream",
     "text": [
      "Shape of Training Data: (784, 60000)\n",
      "Number of Classes: 10\n",
      "Number of Layers 7\n",
      "Layer Dimensions: [784, 100, 100, 50, 30, 30, 10]\n",
      "Number of Mini-Batches 469\n",
      "Logloss after iteration 100: 1.027572\n",
      "Logloss after iteration 200: 0.572389\n",
      "Logloss after iteration 300: 0.352170\n",
      "Logloss after iteration 400: 0.226383\n",
      "Logloss after iteration 500: 0.059448\n",
      "Logloss after iteration 600: 0.242676\n",
      "Logloss after iteration 700: 0.115547\n",
      "Logloss after iteration 800: 0.212553\n",
      "Logloss after iteration 900: 0.132236\n",
      "Logloss after iteration 1000: 0.212283\n",
      "Logloss after iteration 1100: 0.208597\n",
      "Logloss after iteration 1200: 0.146492\n",
      "Logloss after iteration 1300: 0.271891\n",
      "Logloss after iteration 1400: 0.008005\n",
      "Logloss after iteration 1500: 0.064309\n",
      "Logloss after iteration 1600: 0.134593\n",
      "Logloss after iteration 1700: 0.252649\n",
      "Logloss after iteration 1800: 0.160916\n",
      "Logloss after iteration 1900: 0.123370\n",
      "Logloss after iteration 2000: 0.141889\n",
      "Logloss after iteration 2100: 0.156846\n",
      "Logloss after iteration 2200: 0.126096\n",
      "Logloss after iteration 2300: 0.060637\n",
      "Logloss after iteration 2400: 0.128137\n",
      "Logloss after iteration 2500: 0.074433\n",
      "Logloss after iteration 2600: 0.033615\n",
      "Logloss after iteration 2700: 0.049458\n",
      "Logloss after iteration 2800: 0.019502\n",
      "Logloss after iteration 2900: 0.054863\n",
      "Logloss after iteration 3000: 0.044163\n",
      "Logloss after iteration 3100: 0.019815\n",
      "Logloss after iteration 3200: 0.026702\n",
      "Logloss after iteration 3300: 0.030431\n",
      "Logloss after iteration 3400: 0.034668\n",
      "Logloss after iteration 3500: 0.061856\n",
      "Logloss after iteration 3600: 0.025317\n",
      "Logloss after iteration 3700: 0.010865\n",
      "Logloss after iteration 3800: 0.042386\n",
      "Logloss after iteration 3900: 0.012284\n",
      "Logloss after iteration 4000: 0.139606\n",
      "Logloss after iteration 4100: 0.142472\n",
      "Logloss after iteration 4200: 0.055829\n",
      "Logloss after iteration 4300: 0.082104\n",
      "Logloss after iteration 4400: 0.016855\n",
      "Logloss after iteration 4500: 0.061381\n",
      "Logloss after iteration 4600: 0.011498\n",
      "Self-Made Neural Network Classifier Runtime: 17.743589 seconds\n"
     ]
    }
   ],
   "source": [
    "#initializing, training, and evaluating the nn\n",
    "nn = NeuralNetwork(alpha=0.1,epochs=10,layer_dims=[100,100,50,30,30], lmbda = 0.5,\n",
    "                   decay_rate=0.3, mini_batch_size=128, init_strategy = \"xavier\",\n",
    "                   random_state=0, print_errors=True)\n",
    "\n",
    "start = time.time()\n",
    "nn.train(X_train, Y_train)\n",
    "end = time.time()\n",
    "print(\"Self-Made Neural Network Classifier Runtime:\",np.round(end-start,6),'seconds')"
   ]
  },
  {
   "cell_type": "code",
   "execution_count": 6,
   "metadata": {},
   "outputs": [
    {
     "name": "stdout",
     "output_type": "stream",
     "text": [
      "Test Accuracy for Neural Network: 96.6 %\n"
     ]
    },
    {
     "data": {
      "image/png": "[encoded data removed]",
      "text/plain": [
       "<Figure size 432x288 with 1 Axes>"
      ]
     },
     "metadata": {
      "needs_background": "light"
     },
     "output_type": "display_data"
    }
   ],
   "source": [
    "print(\"Test Accuracy for Neural Network:\",np.round(nn.accuracy(X_test,Y_test),3),'%')\n",
    "nn.plot_cost()"
   ]
  },
  {
   "cell_type": "markdown",
   "metadata": {},
   "source": [
    "The neural network only took about 18 seconds to get to 96.6% accuracy on the test set, while having 5 hidden layers of at least 30 neurons."
   ]
  }
 ],
 "metadata": {
  "kernelspec": {
   "display_name": "Python 3",
   "language": "python",
   "name": "python3"
  },
  "language_info": {
   "codemirror_mode": {
    "name": "ipython",
    "version": 3
   },
   "file_extension": ".py",
   "mimetype": "text/x-python",
   "name": "python",
   "nbconvert_exporter": "python",
   "pygments_lexer": "ipython3",
   "version": "3.7.3"
  }
 },
 "nbformat": 4,
 "nbformat_minor": 2
}
