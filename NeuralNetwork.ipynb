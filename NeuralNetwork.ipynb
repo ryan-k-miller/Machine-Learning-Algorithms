{
 "cells": [
  {
   "cell_type": "markdown",
   "metadata": {},
   "source": [
    "# Feed Forward Neural Network for Classification using Numpy\n",
    "Python module contained [here](https://github.com/ryan-kp-miller/Machine-Learning-Algorithms/tree/master/NeuralNetwork)."
   ]
  },
  {
   "cell_type": "markdown",
   "metadata": {},
   "source": [
    "## Importing Neural Network Module and Dependencies"
   ]
  },
  {
   "cell_type": "code",
   "execution_count": 1,
   "metadata": {},
   "outputs": [],
   "source": [
    "from NeuralNetwork.NeuralNetwork import NeuralNetwork\n",
    "\n",
    "from tensorflow.keras.datasets import mnist\n",
    "import pandas as pd\n",
    "import numpy as np\n",
    "import time"
   ]
  },
  {
   "cell_type": "code",
   "execution_count": 2,
   "metadata": {},
   "outputs": [
    {
     "name": "stdout",
     "output_type": "stream",
     "text": [
      "\n",
      "        this class is for training, predicting, and evaluating an L-depth\n",
      "        Neural Network for binary classification using linear ReLU hidden nodes\n",
      "        and a linear Sigmoid output node\n",
      "\n",
      "        inputs:\n",
      "            layer_dims: list containing the number of neurons for each hidden layer\n",
      "            alpha: float representing the learning rate of the model\n",
      "            epochs: int representing the number of training epochs\n",
      "            init_strategy: string representing the parameter initialization strategy\n",
      "                           takes the value of \"xavier\" or \"he\"\n",
      "            decay_rate: float representing the decay rate for learning rate decay\n",
      "            mini_batch_size: int representing the size of each mini-batch\n",
      "                             if mini_batch_size == num_examples, then performing batch\n",
      "                             gradient descent\n",
      "            epsilon: float representing the adjustment value to avoid numerical instability\n",
      "                     (divide by 0)\n",
      "            random_state: int for setting the np.random.seed to ensure reproducibility\n",
      "            print_errors: boolean flag representing whether or not to print the cost during training\n",
      "            print_iter: the number of iterations between printing the current training cost\n",
      "\n",
      "        output: None\n",
      "    \n"
     ]
    }
   ],
   "source": [
    "print(NeuralNetwork().__doc__)"
   ]
  },
  {
   "cell_type": "markdown",
   "metadata": {},
   "source": [
    "## Testing Performance on MNIST Dataset"
   ]
  },
  {
   "cell_type": "code",
   "execution_count": 3,
   "metadata": {},
   "outputs": [
    {
     "data": {
      "text/plain": [
       "(784, 60000)"
      ]
     },
     "execution_count": 3,
     "metadata": {},
     "output_type": "execute_result"
    }
   ],
   "source": [
    "(X_train,Y_train), (X_test,Y_test) = mnist.load_data()\n",
    "X_train = X_train.astype(np.float16).reshape((-1,X_train.shape[1]*X_train.shape[2]))\n",
    "X_train = X_train.T / 255\n",
    "Y_train = pd.get_dummies(Y_train).values.T\n",
    "# X_test = test.iloc[:,1:].values\n",
    "X_test = X_test.astype(np.float16).reshape((-1,X_test.shape[1]*X_test.shape[2]))\n",
    "X_test = X_test.T / 255\n",
    "Y_test = pd.get_dummies(Y_test).values.T\n",
    "X_train.shape"
   ]
  },
  {
   "cell_type": "code",
   "execution_count": 4,
   "metadata": {
    "scrolled": false
   },
   "outputs": [
    {
     "name": "stdout",
     "output_type": "stream",
     "text": [
      "Shape of Training Data: (784, 60000)\n",
      "Number of Classes: 10\n",
      "Number of Layers 7\n",
      "Layer Dimensions: [784, 100, 100, 50, 30, 30, 10]\n",
      "Number of Mini-Batches 469\n",
      "Logloss after iteration 100: 1.027572\n",
      "Logloss after iteration 200: 0.572389\n",
      "Logloss after iteration 300: 0.352170\n",
      "Logloss after iteration 400: 0.226383\n",
      "Logloss after iteration 500: 0.059448\n",
      "Logloss after iteration 600: 0.242676\n",
      "Logloss after iteration 700: 0.115547\n",
      "Logloss after iteration 800: 0.212553\n",
      "Logloss after iteration 900: 0.132236\n",
      "Logloss after iteration 1000: 0.212283\n",
      "Logloss after iteration 1100: 0.208597\n",
      "Logloss after iteration 1200: 0.146492\n",
      "Logloss after iteration 1300: 0.271891\n",
      "Logloss after iteration 1400: 0.008005\n",
      "Logloss after iteration 1500: 0.064309\n",
      "Logloss after iteration 1600: 0.134593\n",
      "Logloss after iteration 1700: 0.252649\n",
      "Logloss after iteration 1800: 0.160916\n",
      "Logloss after iteration 1900: 0.123370\n",
      "Logloss after iteration 2000: 0.141889\n",
      "Logloss after iteration 2100: 0.156846\n",
      "Logloss after iteration 2200: 0.126096\n",
      "Logloss after iteration 2300: 0.060637\n",
      "Self-Made Neural Network Classifier Runtime: 7.438998 seconds\n"
     ]
    }
   ],
   "source": [
    "#initializing, training, and evaluating the nn\n",
    "nn = NeuralNetwork(alpha=0.1,layer_dims=[100,100,50,30,30], lmbda = 0.5,\n",
    "                   decay_rate=0.3, mini_batch_size=128, init_strategy = \"xavier\",\n",
    "                   random_state=0, print_errors=True)\n",
    "\n",
    "start = time.time()\n",
    "nn.train(X_train, Y_train, epochs=5)\n",
    "end = time.time()\n",
    "print(\"Self-Made Neural Network Classifier Runtime:\",np.round(end-start,6),'seconds')"
   ]
  },
  {
   "cell_type": "code",
   "execution_count": 5,
   "metadata": {},
   "outputs": [
    {
     "name": "stdout",
     "output_type": "stream",
     "text": [
      "Test Accuracy for Neural Network: 96.06 %\n"
     ]
    },
    {
     "data": {
      "image/png": "[encoded data removed]",
      "text/plain": [
       "<Figure size 432x288 with 1 Axes>"
      ]
     },
     "metadata": {
      "needs_background": "light"
     },
     "output_type": "display_data"
    }
   ],
   "source": [
    "print(\"Test Accuracy for Neural Network:\",np.round(nn.accuracy(X_test,Y_test),3),'%')\n",
    "nn.plot_cost()"
   ]
  },
  {
   "cell_type": "markdown",
   "metadata": {},
   "source": [
    "The neural network only took about 8 seconds to get to 96.06% accuracy on the test set, while having 5 hidden layers trained for 5 epochs."
   ]
  }
 ],
 "metadata": {
  "kernelspec": {
   "display_name": "Python 3",
   "language": "python",
   "name": "python3"
  },
  "language_info": {
   "codemirror_mode": {
    "name": "ipython",
    "version": 3
   },
   "file_extension": ".py",
   "mimetype": "text/x-python",
   "name": "python",
   "nbconvert_exporter": "python",
   "pygments_lexer": "ipython3",
   "version": "3.7.3"
  }
 },
 "nbformat": 4,
 "nbformat_minor": 2
}
