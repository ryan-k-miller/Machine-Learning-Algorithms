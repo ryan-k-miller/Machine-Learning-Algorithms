{
 "cells": [
  {
   "cell_type": "markdown",
   "metadata": {},
   "source": [
    "# Random Forest Classifier using Entropy and Information Gain\n",
    "Python module contained [here](https://github.com/ryan-kp-miller/Machine-Learning-Algorithms/tree/master/RandomForest)."
   ]
  },
  {
   "cell_type": "code",
   "execution_count": 2,
   "metadata": {},
   "outputs": [],
   "source": [
    "from RandomForest.RandomForest import RandomForest\n",
    "\n",
    "import numpy as np\n",
    "import pandas as pd\n",
    "from sklearn.ensemble import RandomForestClassifier\n",
    "from sklearn.preprocessing import StandardScaler\n",
    "from sklearn.model_selection import train_test_split\n",
    "from time import time"
   ]
  },
  {
   "cell_type": "markdown",
   "metadata": {},
   "source": [
    "### Reading in and Splitting the Data "
   ]
  },
  {
   "cell_type": "code",
   "execution_count": 3,
   "metadata": {},
   "outputs": [],
   "source": [
    "#reading in the Pima Indians Diabetes dataset\n",
    "data = pd.read_csv('../Data/diabetes.csv')\n",
    "\n",
    "#splitting data into features and target variables\n",
    "target = np.array(data.iloc[:,-1]).reshape((-1,1))\n",
    "features = data.iloc[:,:-1]\n",
    "\n",
    "#scaling the features to mean 0 and unit variance\n",
    "ss = StandardScaler()\n",
    "features = ss.fit_transform(np.array(features))\n",
    "\n",
    "#adding intercept column to features\n",
    "features = np.append(features,np.ones((features.shape[0],1)),axis=1)\n",
    "\n",
    "#splitting the data into train and test sets\n",
    "X_train,X_test,y_train,y_test = train_test_split(features,target,test_size=0.2,random_state=0)"
   ]
  },
  {
   "cell_type": "markdown",
   "metadata": {},
   "source": [
    "### Comparing Performance to Sklearn's RandomForestClassifier\n",
    "The test accuracy of my Random Forest Classifier implementation is comparable to Sklearn's. Unlike Sklearn's version, it is capable of handling categorical data without requiring preprocessing beforehand but has a noticeably slower runtime."
   ]
  },
  {
   "cell_type": "code",
   "execution_count": 4,
   "metadata": {},
   "outputs": [
    {
     "name": "stdout",
     "output_type": "stream",
     "text": [
      "Sklearn's DecisionTreeClassifier Test Accuracy: 73.568 %\n",
      "Sklearn's DecisionTreeClassifier Runtime: 0.035954 seconds\n"
     ]
    }
   ],
   "source": [
    "#sklearn\n",
    "start = time()\n",
    "rf = RandomForestClassifier(n_estimators = 20,criterion=\"entropy\",random_state=0,max_depth=15,oob_score=True)\n",
    "rf.fit(features,np.ravel(target))\n",
    "end = time()\n",
    "print(\"Sklearn's DecisionTreeClassifier Test Accuracy:\",np.round(100*rf.oob_score_,3),'%')\n",
    "print(\"Sklearn's DecisionTreeClassifier Runtime:\",np.round(end-start,6),'seconds')"
   ]
  },
  {
   "cell_type": "code",
   "execution_count": 5,
   "metadata": {
    "scrolled": true
   },
   "outputs": [
    {
     "name": "stdout",
     "output_type": "stream",
     "text": [
      "Self-Made Decision Tree Classifier Test Accuracy: 74.219 %\n",
      "Self-Made Decision Tree Classifier Runtime: 1.390332 seconds\n"
     ]
    }
   ],
   "source": [
    "#self-made\n",
    "start = time()\n",
    "randomForest = RandomForest()\n",
    "randomForest.fitting(features, target, max_depth=15, num_trees=20)\n",
    "y_predicted = randomForest.voting(features)\n",
    "end = time()\n",
    "print(\"Self-Made Decision Tree Classifier Test Accuracy:\",np.round(100*np.mean(y_predicted == np.ravel(target)),3),'%')\n",
    "print(\"Self-Made Decision Tree Classifier Runtime:\",np.round(end-start,6),'seconds')"
   ]
  }
 ],
 "metadata": {
  "kernelspec": {
   "display_name": "Python 3",
   "language": "python",
   "name": "python3"
  },
  "language_info": {
   "codemirror_mode": {
    "name": "ipython",
    "version": 3
   },
   "file_extension": ".py",
   "mimetype": "text/x-python",
   "name": "python",
   "nbconvert_exporter": "python",
   "pygments_lexer": "ipython3",
   "version": "3.7.3"
  }
 },
 "nbformat": 4,
 "nbformat_minor": 2
}
