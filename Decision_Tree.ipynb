{
 "cells": [
  {
   "cell_type": "markdown",
   "metadata": {},
   "source": [
    "# Decision Tree using Entropy and Information Gain\n",
    "Python module contained [here](https://github.com/ryan-kp-miller/Machine-Learning-Algorithms/tree/master/DecisionTree)."
   ]
  },
  {
   "cell_type": "markdown",
   "metadata": {},
   "source": [
    "## Decision Tree Module and Dependencies"
   ]
  },
  {
   "cell_type": "code",
   "execution_count": 3,
   "metadata": {},
   "outputs": [],
   "source": [
    "from DecisionTree.DecisionTree import DecisionTree\n",
    "\n",
    "import numpy as np\n",
    "import pandas as pd\n",
    "from sklearn.tree import DecisionTreeClassifier\n",
    "from sklearn.preprocessing import StandardScaler\n",
    "from sklearn.model_selection import train_test_split\n",
    "from time import time"
   ]
  },
  {
   "cell_type": "markdown",
   "metadata": {},
   "source": [
    "### Reading in and Splitting the Data "
   ]
  },
  {
   "cell_type": "code",
   "execution_count": 6,
   "metadata": {},
   "outputs": [],
   "source": [
    "#reading in the Pima Indians Diabetes dataset\n",
    "data = pd.read_csv('../Data/diabetes.csv')\n",
    "\n",
    "#splitting data into features and target variables\n",
    "target = np.array(data.iloc[:,-1]).reshape((-1,1))\n",
    "features = data.iloc[:,:-1]\n",
    "\n",
    "#scaling the features to mean 0 and unit variance\n",
    "ss = StandardScaler()\n",
    "features = ss.fit_transform(np.array(features))\n",
    "\n",
    "#adding intercept column to features\n",
    "features = np.append(features,np.ones((features.shape[0],1)),axis=1)\n",
    "\n",
    "#splitting the data into train and test sets\n",
    "X_train,X_test,y_train,y_test = train_test_split(features,target,test_size=0.2,random_state=0)"
   ]
  },
  {
   "cell_type": "markdown",
   "metadata": {},
   "source": [
    "### Using Information Gain for Deciding on Decision Tree Split Values\n",
    "Information Gain = Entropy before Split - Entropy after Split  \n",
    "Entropy = $ \\sum^c_{i=1} -p_i*log_2(p_i) $  \n",
    "where $c$ is the number of classes and $p_i$ is the probability that an observation belongs to the current class."
   ]
  },
  {
   "cell_type": "markdown",
   "metadata": {},
   "source": [
    "### Comparing Performance to Sklearn's DecisionTreeClassifier\n",
    "The test accuracy of my remade Decision Tree Classifier is comparable to Sklearn's implementation, and unlike Sklearn's version, it is capable of handling categorical data without requiring preprocessing beforehand. The main downside that comes to mind is the noticeably slower runtime."
   ]
  },
  {
   "cell_type": "code",
   "execution_count": 5,
   "metadata": {},
   "outputs": [
    {
     "name": "stdout",
     "output_type": "stream",
     "text": [
      "Sklearn's DecisionTreeClassifier Test Accuracy: 72.08 %\n",
      "Sklearn's DecisionTreeClassifier Runtime: 0.005984 seconds\n"
     ]
    }
   ],
   "source": [
    "#sklearn\n",
    "start = time()\n",
    "dtc = DecisionTreeClassifier(criterion=\"entropy\",random_state=0,max_depth=25)\n",
    "dtc.fit(X_train,y_train)\n",
    "end = time()\n",
    "print(\"Sklearn's DecisionTreeClassifier Test Accuracy:\",np.round(100*dtc.score(X_test,y_test),2),'%')\n",
    "print(\"Sklearn's DecisionTreeClassifier Runtime:\",np.round(end-start,6),'seconds')"
   ]
  },
  {
   "cell_type": "code",
   "execution_count": 4,
   "metadata": {
    "scrolled": true
   },
   "outputs": [
    {
     "name": "stdout",
     "output_type": "stream",
     "text": [
      "Self-Made DecisionTree Classifier Test Accuracy: 75.32 %\n",
      "Self-Made DecisionTree Classifier Runtime: 0.325629 seconds\n"
     ]
    }
   ],
   "source": [
    "#self-made\n",
    "start = time()\n",
    "dt = DecisionTree()\n",
    "dt.learn(X_train,y_train,max_depth=25)\n",
    "end = time()\n",
    "print(\"Self-Made DecisionTree Classifier Test Accuracy:\",np.round(100*dt.score(X_test,y_test),2),'%')\n",
    "print(\"Self-Made DecisionTree Classifier Runtime:\",np.round(end-start,6),'seconds')"
   ]
  }
 ],
 "metadata": {
  "kernelspec": {
   "display_name": "Python 3",
   "language": "python",
   "name": "python3"
  },
  "language_info": {
   "codemirror_mode": {
    "name": "ipython",
    "version": 3
   },
   "file_extension": ".py",
   "mimetype": "text/x-python",
   "name": "python",
   "nbconvert_exporter": "python",
   "pygments_lexer": "ipython3",
   "version": "3.7.3"
  }
 },
 "nbformat": 4,
 "nbformat_minor": 2
}
