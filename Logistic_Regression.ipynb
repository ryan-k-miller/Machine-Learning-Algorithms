{
 "cells": [
  {
   "cell_type": "markdown",
   "metadata": {},
   "source": [
    "# Logistic Regression using Gradient Descent\n",
    "Ryan Miller"
   ]
  },
  {
   "cell_type": "markdown",
   "metadata": {},
   "source": [
    "### Importing Packages"
   ]
  },
  {
   "cell_type": "code",
   "execution_count": 49,
   "metadata": {
    "collapsed": true
   },
   "outputs": [],
   "source": [
    "import numpy as np\n",
    "import pandas as pd\n",
    "from sklearn.linear_model import LogisticRegression\n",
    "from sklearn.preprocessing import StandardScaler\n",
    "import matplotlib.pyplot as plt"
   ]
  },
  {
   "cell_type": "markdown",
   "metadata": {},
   "source": [
    "### Reading in Data"
   ]
  },
  {
   "cell_type": "code",
   "execution_count": 71,
   "metadata": {},
   "outputs": [
    {
     "data": {
      "text/plain": [
       "array([ 0.63994726,  0.84832379,  0.14964075,  0.90726993, -0.69289057,\n",
       "        0.20401277,  0.46849198,  1.4259954 ,  1.        ])"
      ]
     },
     "execution_count": 71,
     "metadata": {},
     "output_type": "execute_result"
    }
   ],
   "source": [
    "#reading in the Pima Indians Diabetes dataset\n",
    "data = pd.read_csv('diabetes.csv')\n",
    "\n",
    "#splitting data into features and target variables\n",
    "target = np.array(data.iloc[:,-1]).reshape((-1,1))\n",
    "features = data.iloc[:,:-1]\n",
    "\n",
    "#scaling the features to mean 0 and unit variance\n",
    "ss = StandardScaler()\n",
    "features = ss.fit_transform(np.array(features))\n",
    "\n",
    "#adding intercept column to features\n",
    "features = np.append(features,np.ones((features.shape[0],1)),axis=1)\n",
    "\n",
    "#showing first row of features\n",
    "features[0,:]"
   ]
  },
  {
   "cell_type": "markdown",
   "metadata": {
    "collapsed": true
   },
   "source": [
    "### Using Gradient Descent to find the Maximum Likelihood Estimates of the Coefficients\n",
    "To find the best coefficients, we need to maximize the log-likelihood of the coefficients given our data. Using gradient descent, we can iteratively approach this maximum by deriving the gradient of the objective function, multiplying by the step size, and adding this to our current estimates of the coefficients.  \n",
    "  \n",
    "  The math to find the gradient is shown below:"
   ]
  },
  {
   "cell_type": "markdown",
   "metadata": {},
   "source": [
    "$\n",
    "L(\\beta \\mid  X) = \\sum_{i=1}^ny_ilog\\frac{e^{X_i^T\\beta}}{1+e^{X_i^T\\beta}} + (1-y_i)log(\\frac{1}{1+e^{X_i^T\\beta}})\n",
    "$  \n",
    "  \n",
    "$\n",
    "= \\sum_{i=1}^n y_i log(e^{X_i^T\\beta}) - y_i log(1+e^{X_i^T\\beta}) - log(1+e^{X_i^T\\beta}) + y_ilog(1+e^{X_i^T\\beta})\n",
    "$    \n",
    "  \n",
    "$\n",
    "= \\sum_{i=1}^n y_i log(e^{X_i^T\\beta}) + log(1+e^{X_i^T\\beta})\n",
    "$  \n",
    "  \n",
    "$\n",
    "= \\sum_{i=1}^n y_i X_i^T\\beta + log(1+e^{X_i^T\\beta})\n",
    "$  "
   ]
  },
  {
   "cell_type": "markdown",
   "metadata": {},
   "source": [
    " \n",
    "$\n",
    "\\frac{d}{d \\beta}L(\\beta \\mid  X) = \\sum_{i=1}^n X_i^T y_i - X_i^T \\frac{1}{1+e^{X_i^T\\beta}}\n",
    "$  \n",
    "  \n",
    "$\n",
    "= \\sum_{i=1}^n X_i^T (y_i - \\frac{1}{1+e^{X_i^T\\beta}})\n",
    "$ "
   ]
  },
  {
   "cell_type": "code",
   "execution_count": 252,
   "metadata": {},
   "outputs": [],
   "source": [
    "class Logistic_Regression:\n",
    "    #returns the log-likelihood of the current coefficients given the training data\n",
    "    def obj(X,y,beta):\n",
    "        return np.dot(y.T,np.dot(X,beta)) - np.sum(np.log(1+np.exp(np.dot(X,beta))))\n",
    "    \n",
    "    #determines the step direction for the current iteration\n",
    "    def gradient(X,y,beta):\n",
    "        tmp = y - (1/(1+np.exp(np.dot(X,beta))))\n",
    "        ret = np.dot(X.T,tmp)\n",
    "        return ret\n",
    "    \n",
    "    #determines the best step size for the current iteration\n",
    "    def adaptive_step_size(X,y,beta,step_dir):\n",
    "        itr = 0\n",
    "        t=0.01\n",
    "        if obj(X,y,beta+t*step_dir) < obj(X,y,beta-t*step_dir):\n",
    "            t = -t\n",
    "        while obj(X,y,beta+t*step_dir) < obj(X,y,beta+t*0.1*step_dir) and itr < 5:\n",
    "            t=t*0.1\n",
    "            itr += 1\n",
    "        return t\n",
    "    \n",
    "    #performs gradient descent to find the set of coefficients that maximizes the log-likelihood\n",
    "    def get_coef_likelihoods(self,X,y,tol=0.001,max_steps=20):\n",
    "        #initializing betas to 0\n",
    "        n_cols = X.shape[1]\n",
    "        beta = np.zeros((n_cols,1))\n",
    "        #temporary beta_new\n",
    "        beta_new = np.ones((n_cols,1))*0.1\n",
    "        #initializing likelihood list and iteration counter\n",
    "        likelihoods = []\n",
    "        itr = 0\n",
    "        likelihoods.append(obj(X,y,beta_new))\n",
    "        while obj(X,y,beta_new)-obj(X,y,beta) > tol and itr < max_steps:\n",
    "            beta = beta_new\n",
    "            grad = gradient(X,y,beta)     \n",
    "            t = adaptive_step_size(X,y,beta,grad)\n",
    "            beta_new = beta + t*grad\n",
    "            itr+=1\n",
    "            likelihoods.append(obj(X,y,beta_new))\n",
    "        return likelihoods,beta_new\n",
    "    \n",
    "    #finds the prediction accuracy of the current coefficients\n",
    "    def accuracy(self,X,y,beta):\n",
    "        pred_prob = np.exp(np.dot(X,beta))/(1+np.exp(np.dot(X,beta)))\n",
    "        pred = [1 if i > 0.5 else 0 for i in pred_prob]\n",
    "        return 100*np.mean(pred == y.reshape(-1))"
   ]
  },
  {
   "cell_type": "code",
   "execution_count": 253,
   "metadata": {},
   "outputs": [
    {
     "data": {
      "image/png": "[encoded data removed]",
      "text/plain": [
       "<matplotlib.figure.Figure at 0x2749cbbb390>"
      ]
     },
     "metadata": {},
     "output_type": "display_data"
    }
   ],
   "source": [
    "lr = Logistic_Regression()\n",
    "gd_likelihoods,gd_beta = lr.get_coef_likelihoods(features,target,max_steps=30)\n",
    "gd_likelihoods = np.array(gd_likelihoods).reshape((-1))\n",
    "plt.plot(gd_likelihoods)\n",
    "plt.ylabel(\"Likelihood\")\n",
    "plt.xlabel(\"Iterations\")\n",
    "plt.title(\"Likelihood of Betas during Gradient Descent\")\n",
    "plt.show()"
   ]
  },
  {
   "cell_type": "code",
   "execution_count": 254,
   "metadata": {
    "scrolled": false
   },
   "outputs": [
    {
     "name": "stdout",
     "output_type": "stream",
     "text": [
      "Predictions of Beta for Gradient Descent: [ 0.35523077  0.5787767   0.25519332  0.25629455  0.30364393  0.43721995\n",
      "  0.31174223  0.38635934 -0.11484008]\n",
      "Prediction Accuracy for Gradient Descent: 71.615 %\n",
      "Likelihood for Gradient Descent: [[-440.487]]\n",
      "Number of Iterations until Convergence for Gradient Descent: 4\n"
     ]
    }
   ],
   "source": [
    "print(\"Predictions of Beta for Gradient Descent:\",gd_beta.reshape((-1)))\n",
    "print(\"Prediction Accuracy for Gradient Descent:\",np.round(lr.accuracy(features,target,gd_beta),3),'%')\n",
    "print(\"Likelihood for Gradient Descent:\",np.round(obj(features,target,gd_beta),3))\n",
    "print(\"Number of Iterations until Convergence for Gradient Descent:\",len(gd_likelihoods))"
   ]
  },
  {
   "cell_type": "markdown",
   "metadata": {},
   "source": [
    "### Using Sklearn.linear_model.LogisticRegression for Comparison"
   ]
  },
  {
   "cell_type": "code",
   "execution_count": 242,
   "metadata": {},
   "outputs": [
    {
     "name": "stdout",
     "output_type": "stream",
     "text": [
      "Predictions of Beta for Sklearn: [[ 0.4079442   1.10555527 -0.25049493  0.00913944 -0.13088899  0.69442933\n",
      "   0.30860251  0.17576207 -0.85880534]]\n",
      "Prediction Accuracy for Sklearn: 78.385 %\n"
     ]
    }
   ],
   "source": [
    "lr = LogisticRegression(fit_intercept=False)\n",
    "lr.fit(features,np.ravel(target))\n",
    "\n",
    "print(\"Predictions of Beta for Sklearn:\",lr.coef_)\n",
    "print(\"Prediction Accuracy for Sklearn:\",np.round(100*lr.score(features,target),3),'%')"
   ]
  }
 ],
 "metadata": {
  "kernelspec": {
   "display_name": "Python 3",
   "language": "python",
   "name": "python3"
  },
  "language_info": {
   "codemirror_mode": {
    "name": "ipython",
    "version": 3
   },
   "file_extension": ".py",
   "mimetype": "text/x-python",
   "name": "python",
   "nbconvert_exporter": "python",
   "pygments_lexer": "ipython3",
   "version": "3.6.2"
  }
 },
 "nbformat": 4,
 "nbformat_minor": 2
}
