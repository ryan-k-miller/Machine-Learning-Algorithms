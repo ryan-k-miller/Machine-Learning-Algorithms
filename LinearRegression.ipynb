{
 "cells": [
  {
   "cell_type": "markdown",
   "metadata": {},
   "source": [
    "# Ordinary Least Squares Regression\n",
    "Ryan Miller"
   ]
  },
  {
   "cell_type": "markdown",
   "metadata": {},
   "source": [
    "Theory stuff "
   ]
  },
  {
   "cell_type": "markdown",
   "metadata": {},
   "source": [
    "## Comparing Performance to Sklearn's Implementation\n",
    "### Importing Dependencies"
   ]
  },
  {
   "cell_type": "code",
   "execution_count": 1,
   "metadata": {},
   "outputs": [],
   "source": [
    "from LinearRegression.LinearRegression import LinearRegression\n",
    "from sklearn import datasets, linear_model\n",
    "import numpy as np"
   ]
  },
  {
   "cell_type": "markdown",
   "metadata": {},
   "source": [
    "### Importing Dataset"
   ]
  },
  {
   "cell_type": "code",
   "execution_count": 2,
   "metadata": {
    "collapsed": true
   },
   "outputs": [],
   "source": [
    "X,y = datasets.load_diabetes(True)\n",
    "y = y.reshape((-1,1))"
   ]
  },
  {
   "cell_type": "markdown",
   "metadata": {},
   "source": [
    "### Comparison"
   ]
  },
  {
   "cell_type": "code",
   "execution_count": 3,
   "metadata": {},
   "outputs": [
    {
     "name": "stdout",
     "output_type": "stream",
     "text": [
      "My Linear Regression R-Squared: 0.5177\n",
      "Skelarn's Linear Regression R-Squared: 0.5177\n"
     ]
    }
   ],
   "source": [
    "#my implementation\n",
    "lr = LinearRegression(fit_intercept=True)\n",
    "lr.fit(X,y)\n",
    "print(\"My Linear Regression R-Squared:\", np.round(lr.R_squared,4))\n",
    "\n",
    "#sklearn's implementation\n",
    "sklr = linear_model.LinearRegression()\n",
    "sklr.fit(X,y)\n",
    "print(\"Skelarn's Linear Regression R-Squared:\",np.round(sklr.score(X,y),4))"
   ]
  },
  {
   "cell_type": "markdown",
   "metadata": {},
   "source": [
    "## Other Features"
   ]
  },
  {
   "cell_type": "markdown",
   "metadata": {},
   "source": [
    "### Docstring"
   ]
  },
  {
   "cell_type": "code",
   "execution_count": 14,
   "metadata": {},
   "outputs": [
    {
     "name": "stdout",
     "output_type": "stream",
     "text": [
      "\n",
      "        Linear Regression class with methods for fitting to a training dataset,\n",
      "        predicting based on a testing dataset, and checking model assumptions\n",
      "\n",
      "        inputs:\n",
      "            fit_intercept: Boolean flag to determine whether to fit an intercept\n",
      "\n",
      "        outputs:\n",
      "            None\n",
      "    \n"
     ]
    }
   ],
   "source": [
    "print(lr.__doc__)"
   ]
  },
  {
   "cell_type": "markdown",
   "metadata": {},
   "source": [
    "### Sum of Squared Errors, Sum of Squared Residuals, and Total Sum of Squares"
   ]
  },
  {
   "cell_type": "code",
   "execution_count": 8,
   "metadata": {},
   "outputs": [
    {
     "name": "stdout",
     "output_type": "stream",
     "text": [
      "Sum of Squared Errors: 1263983.1562554848\n",
      "Sum of Squared Residuals: 1357025.9681789046\n",
      "Total Sum of Squared: 2621009.124434389\n"
     ]
    }
   ],
   "source": [
    "print(\"Sum of Squared Errors:\",lr.SSE)\n",
    "print(\"Sum of Squared Residuals:\",lr.SSR)\n",
    "print(\"Total Sum of Squared:\",lr.SST)"
   ]
  },
  {
   "cell_type": "markdown",
   "metadata": {},
   "source": [
    "### R-Squared and Adjusted R-Squared"
   ]
  },
  {
   "cell_type": "code",
   "execution_count": 10,
   "metadata": {},
   "outputs": [
    {
     "name": "stdout",
     "output_type": "stream",
     "text": [
      "R-Squared: 0.5177\n",
      "Adjusted R-Squared: 0.5054\n"
     ]
    }
   ],
   "source": [
    "print(\"R-Squared:\",np.round(lr.R_squared,4))\n",
    "print(\"Adjusted R-Squared:\",np.round(lr.R_squared_adjusted,4))"
   ]
  },
  {
   "cell_type": "markdown",
   "metadata": {},
   "source": [
    "### Fitted Plot"
   ]
  },
  {
   "cell_type": "code",
   "execution_count": 12,
   "metadata": {},
   "outputs": [
    {
     "name": "stdout",
     "output_type": "stream",
     "text": [
      "\n",
      "            method for plotting the predictions against the true values\n",
      "            to check for homoscedasticity\n",
      "\n",
      "            inputs:\n",
      "                X: numpy array containing the predictor variables\n",
      "                   shape = (n, p) where n = # of observations and p = # of predictors\n",
      "                y: numpy array containing the response variable\n",
      "                   shape = (n, 1) where n = # of observations\n",
      "\n",
      "            outputs:\n",
      "                None\n",
      "        \n"
     ]
    },
    {
     "data": {
      "image/png": "[encoded data removed]",
      "text/plain": [
       "<matplotlib.figure.Figure at 0x1ef53e84f98>"
      ]
     },
     "metadata": {},
     "output_type": "display_data"
    }
   ],
   "source": [
    "print(lr.plot_fitted.__doc__)\n",
    "lr.plot_fitted(X,y)"
   ]
  }
 ],
 "metadata": {
  "kernelspec": {
   "display_name": "Python 3",
   "language": "python",
   "name": "python3"
  },
  "language_info": {
   "codemirror_mode": {
    "name": "ipython",
    "version": 3
   },
   "file_extension": ".py",
   "mimetype": "text/x-python",
   "name": "python",
   "nbconvert_exporter": "python",
   "pygments_lexer": "ipython3",
   "version": "3.6.2"
  }
 },
 "nbformat": 4,
 "nbformat_minor": 2
}
